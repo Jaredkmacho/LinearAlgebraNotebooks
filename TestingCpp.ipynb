{
  "nbformat": 4,
  "nbformat_minor": 0,
  "metadata": {
    "colab": {
      "name": "TestingCpp.ipynb",
      "provenance": [],
      "collapsed_sections": [],
      "authorship_tag": "ABX9TyNq4bihHG5eeECloQMgoQjw",
      "include_colab_link": true
    },
    "kernelspec": {
      "name": "python3",
      "display_name": "Python 3"
    },
    "language_info": {
      "name": "python"
    }
  },
  "cells": [
    {
      "cell_type": "markdown",
      "metadata": {
        "id": "view-in-github",
        "colab_type": "text"
      },
      "source": [
        "<a href=\"https://colab.research.google.com/github/Jaredkmacho/LinearAlgebraNotebooks/blob/main/TestingCpp.ipynb\" target=\"_parent\"><img src=\"https://colab.research.google.com/assets/colab-badge.svg\" alt=\"Open In Colab\"/></a>"
      ]
    },
    {
      "cell_type": "code",
      "metadata": {
        "colab": {
          "base_uri": "https://localhost:8080/"
        },
        "id": "SR5wUyAK9En4",
        "outputId": "3cb08026-15fa-4757-e2de-64cc963a0f96"
      },
      "source": [
        "%%writefile test.h\n",
        "#ifndef TEST_H\n",
        "#define TEST_H\n",
        "\n",
        "class testClass {\n",
        "public:\n",
        "    testClass(uint32_t val) : value_(val) {}\n",
        "    ~ testClass() {}\n",
        "    uint32_t getValue() { return value_; }\n",
        "    void setValue(uint32_t val) { value_ = val; }\n",
        "private:\n",
        "    uint32_t value_;\n",
        "\n",
        "};\n",
        "\n",
        "\n",
        "#endif"
      ],
      "execution_count": 4,
      "outputs": [
        {
          "output_type": "stream",
          "name": "stdout",
          "text": [
            "Overwriting test.h\n"
          ]
        }
      ]
    },
    {
      "cell_type": "code",
      "metadata": {
        "colab": {
          "base_uri": "https://localhost:8080/"
        },
        "id": "Dqk_1UI4Lani",
        "outputId": "6e8d5c7e-65dc-4b06-c258-b32678073474"
      },
      "source": [
        "%%writefile main.cpp\n",
        "#include <iostream>\n",
        "#include \"test.h\"\n",
        "\n",
        "int main() {\n",
        "    uint32_t val;\n",
        "    std::cout << \"Enter value: \";\n",
        "    std::cin >> val;\n",
        "    testClass myVal(val);\n",
        "\n",
        "    std::cout << \"Your value is: \" <<  myVal.getValue() << std::endl;\n",
        "}"
      ],
      "execution_count": 2,
      "outputs": [
        {
          "output_type": "stream",
          "name": "stdout",
          "text": [
            "Writing main.cpp\n"
          ]
        }
      ]
    },
    {
      "cell_type": "code",
      "metadata": {
        "id": "SMkEsh4gMXnC"
      },
      "source": [
        "%%script bash\n",
        "g++ main.cpp -std=c++11 -o testing"
      ],
      "execution_count": 5,
      "outputs": []
    },
    {
      "cell_type": "code",
      "metadata": {
        "colab": {
          "base_uri": "https://localhost:8080/"
        },
        "id": "1caoLG4ONM6U",
        "outputId": "ccee3709-0c5c-4840-99c3-72a6065d12bb"
      },
      "source": [
        "!./testing"
      ],
      "execution_count": 7,
      "outputs": [
        {
          "output_type": "stream",
          "name": "stdout",
          "text": [
            "Enter value: 45\n",
            "Your value is: 45\n"
          ]
        }
      ]
    }
  ]
}