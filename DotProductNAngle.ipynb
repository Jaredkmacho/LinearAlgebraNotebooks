{
  "nbformat": 4,
  "nbformat_minor": 0,
  "metadata": {
    "colab": {
      "name": "DotProductNAngle.ipynb",
      "provenance": [],
      "collapsed_sections": [],
      "authorship_tag": "ABX9TyMWKgVlv0FEHtxO57l3e7Bk",
      "include_colab_link": true
    },
    "kernelspec": {
      "name": "python3",
      "display_name": "Python 3"
    },
    "language_info": {
      "name": "python"
    }
  },
  "cells": [
    {
      "cell_type": "markdown",
      "metadata": {
        "id": "view-in-github",
        "colab_type": "text"
      },
      "source": [
        "<a href=\"https://colab.research.google.com/github/Jaredkmacho/LinearAlgebraNotebooks/blob/main/DotProductNAngle.ipynb\" target=\"_parent\"><img src=\"https://colab.research.google.com/assets/colab-badge.svg\" alt=\"Open In Colab\"/></a>"
      ]
    },
    {
      "cell_type": "code",
      "metadata": {
        "colab": {
          "base_uri": "https://localhost:8080/"
        },
        "id": "mcAA9aDPhJVa",
        "outputId": "2cebd921-2abf-455e-811b-27d9e45ddeb6"
      },
      "source": [
        "%%writefile linear_algebra.h\n",
        "\n",
        "#ifndef LINEAR_ALGEBRA_H\n",
        "#define LINEAR_ALGEBRA_H\n",
        "\n",
        "#include <iostream>\n",
        "#include <vector>\n",
        "#include <cmath>\n",
        "\n",
        "class Vector {\n",
        "public:\n",
        "    Vector();\n",
        "    Vector(double *coordinates, size_t len); //Constructor\n",
        "    Vector(const Vector &other); //Copy constructor\n",
        "    void print();\n",
        "    double Magnitude();\n",
        "    Vector Direction();\n",
        "    double Dot(const Vector &other);\n",
        "    double Angle(Vector &other);\n",
        "    bool operator==(const Vector &other);\n",
        "    Vector& operator+=(const Vector &other);\n",
        "    Vector& operator-=(const Vector &other);\n",
        "    Vector& operator*=(const Vector &other);\n",
        "    Vector& operator*=(double x);\n",
        "    \n",
        "\n",
        "private:\n",
        "    std::vector<double> coordinates_;\n",
        "    size_t dimension_;\n",
        "};\n",
        "\n",
        "#endif /* LINEAR_ALGEBRA_H */"
      ],
      "execution_count": 15,
      "outputs": [
        {
          "output_type": "stream",
          "name": "stdout",
          "text": [
            "Overwriting linear_algebra.h\n"
          ]
        }
      ]
    },
    {
      "cell_type": "code",
      "metadata": {
        "colab": {
          "base_uri": "https://localhost:8080/"
        },
        "id": "33A5GDBwhcR4",
        "outputId": "7468a054-8ad8-4b50-ff61-abeb3343558b"
      },
      "source": [
        "%%writefile linear_algebra.cpp\n",
        "\n",
        "#include \"linear_algebra.h\"\n",
        "Vector::Vector() {\n",
        "    coordinates_ = {};\n",
        "    dimension_ = 0;\n",
        "}\n",
        "\n",
        "Vector::Vector(double *coordinates, size_t len) {\n",
        "    for(size_t i = 0; i < len; i++) {\n",
        "        coordinates_.emplace_back(coordinates[i]);\n",
        "    }\n",
        "    dimension_ = len;\n",
        "}\n",
        "\n",
        "Vector::Vector(const Vector &other) {\n",
        "    for(double v : other.coordinates_) {\n",
        "        coordinates_.emplace_back(v);\n",
        "    }\n",
        "    dimension_ = other.dimension_;\n",
        "}\n",
        "\n",
        "void Vector::print() {\n",
        "    std::cout << \"Vector: [\";\n",
        "    std::cout.precision(4);\n",
        "    for(size_t i = 0; i < dimension_; i++) {\n",
        "        std::cout <<coordinates_[i] << ((i == dimension_ - 1) ? \"]\" : \",\");\n",
        "    }\n",
        "    std::cout << std::endl;\n",
        "}\n",
        "\n",
        "double Vector::Magnitude() {\n",
        "    double tmp = 0;\n",
        "    for(double v: coordinates_) {\n",
        "        tmp += std::pow(v, 2);\n",
        "    }\n",
        "    return std::sqrt(tmp);\n",
        "}\n",
        "\n",
        "Vector Vector::Direction() {\n",
        "    Vector unit(*this);\n",
        "    if(unit.Magnitude() == 0) {\n",
        "        std::cout << \"Zero magnitude vector!\" << std::endl;\n",
        "        return Vector();\n",
        "    }\n",
        "    double tmp = 1 / unit.Magnitude();\n",
        "    return unit*=tmp;\n",
        "}\n",
        "\n",
        "double Vector::Dot(const Vector &other) {\n",
        "    // TODO: Compare size then calculate dot product V.W = v1*w1 + v2*w2 + ... + vn*wn\n",
        "    double tmp = 0;\n",
        "    if(dimension_ == other.dimension_) {\n",
        "        for(size_t i = 0; i < dimension_; i++) {\n",
        "            tmp += coordinates_[i] * other.coordinates_[i];\n",
        "        }\n",
        "        return tmp;\n",
        "    } \n",
        "    std::cout << \"Not equal sized vectors!\" << std::endl;\n",
        "    return -1;\n",
        "}\n",
        "\n",
        "double Vector::Angle(Vector &other) {\n",
        "    // TODO: Compare size then calculate angle theta = acos(V.W / ||V||*||W|| )\n",
        "    if(dimension_ == other.dimension_) {\n",
        "        return std::acos( Dot(other) / (Magnitude() * other.Magnitude()) );\n",
        "    }\n",
        "    std::cout << \"Not equal sized vectors!\" << std::endl;\n",
        "    return -1;\n",
        "}\n",
        "\n",
        "bool Vector::operator==(const Vector &other) {\n",
        "    return coordinates_ == other.coordinates_;\n",
        "}\n",
        "\n",
        "Vector& Vector::operator+=(const Vector &other) {\n",
        "    if(dimension_ == other.dimension_) {\n",
        "        for(size_t i = 0; i < dimension_; i++) {\n",
        "            coordinates_[i] += other.coordinates_[i];\n",
        "        }\n",
        "    return *this;\n",
        "    }\n",
        "}\n",
        "\n",
        "Vector& Vector::operator-=(const Vector &other) {\n",
        "    if(dimension_ == other.dimension_) {\n",
        "        for(size_t i = 0; i < dimension_; i++) {\n",
        "            coordinates_[i] = coordinates_[i] - other.coordinates_[i];\n",
        "        }\n",
        "    return *this;\n",
        "    }\n",
        "}\n",
        "\n",
        "Vector& Vector::operator*=(const Vector &other) {\n",
        "    if(dimension_ == other.dimension_) {\n",
        "        for(size_t i = 0; i < dimension_; i++) {\n",
        "            coordinates_[i] *= other.coordinates_[i];\n",
        "        }\n",
        "    return *this;\n",
        "    }\n",
        "}\n",
        "\n",
        "Vector& Vector::operator*=(double x) {\n",
        "    for(size_t i = 0; i < dimension_; i++) {\n",
        "        coordinates_[i] *= x;\n",
        "    }\n",
        "    return *this;\n",
        "}"
      ],
      "execution_count": 16,
      "outputs": [
        {
          "output_type": "stream",
          "name": "stdout",
          "text": [
            "Overwriting linear_algebra.cpp\n"
          ]
        }
      ]
    },
    {
      "cell_type": "code",
      "metadata": {
        "colab": {
          "base_uri": "https://localhost:8080/"
        },
        "id": "xTeJptmFhdBV",
        "outputId": "4c194fe0-637b-4b78-cc06-42017a4be598"
      },
      "source": [
        "%%writefile main.cpp\n",
        "\n",
        "#include \"linear_algebra.h\"\n",
        "\n",
        "#define PI 3.14159265359\n",
        "\n",
        "int main() {\n",
        "    //DOT 1\n",
        "    double coordinates1[] = {7.887, 4.138};\n",
        "    double coordinates2[] = {-8.802, 6.776};\n",
        "    //DOT 2\n",
        "    double coordinates3[] = {-5.955, -4.904, -1.874};\n",
        "    double coordinates4[] = {-4.496, -8.755, 7.103};\n",
        "\n",
        "\n",
        "    //ANGLE 1\n",
        "    double coordinates5[] = {3.183, -7.627};\n",
        "    double coordinates6[] = {-2.668, 5.319};\n",
        "    //ANGLE 2\n",
        "    double coordinates7[] = {7.35, 0.221, 5.188};\n",
        "    double coordinates8[] = {2.751, 8.259, 3.985};\n",
        "\n",
        "    Vector vector1(coordinates1, sizeof(coordinates1) / sizeof(double));\n",
        "    Vector vector2(coordinates2, sizeof(coordinates2) / sizeof(double));\n",
        "    Vector vector3(coordinates3, sizeof(coordinates3) / sizeof(double));\n",
        "    Vector vector4(coordinates4, sizeof(coordinates4) / sizeof(double));\n",
        "    Vector vector5(coordinates5, sizeof(coordinates5) / sizeof(double));\n",
        "    Vector vector6(coordinates6, sizeof(coordinates6) / sizeof(double));\n",
        "    Vector vector7(coordinates7, sizeof(coordinates7) / sizeof(double));\n",
        "    Vector vector8(coordinates8, sizeof(coordinates8) / sizeof(double));\n",
        "\n",
        "    std::cout << \"---------- DOT PRODUCT ---------\" << std::endl;\n",
        "    vector1.print();\n",
        "    vector2.print();\n",
        "    auto dotproduct1 = vector1.Dot(vector2);\n",
        "    std::cout.precision(5);\n",
        "    std::cout << \"Dot Product = \" << dotproduct1 << std::endl;\n",
        "    \n",
        "    vector3.print();\n",
        "    vector4.print();\n",
        "    auto dotproduct2 = vector3.Dot(vector4);\n",
        "    std::cout.precision(5);\n",
        "    std::cout << \"Dot Product = \" << dotproduct2 << std::endl;\n",
        "\n",
        "    std::cout << \"---------- ANGLE ---------\" << std::endl;\n",
        "    vector5.print();\n",
        "    vector6.print();\n",
        "    auto anglerad = vector5.Angle(vector6);\n",
        "    std::cout.precision(5);\n",
        "    std::cout << \"Angle = \" << anglerad << \" rad\" << std::endl;\n",
        "    \n",
        "    vector7.print();\n",
        "    vector8.print();\n",
        "    double angledeg = vector7.Angle(vector8) * 180 / PI;\n",
        "    std::cout.precision(5);\n",
        "    std::cout << \"Angle = \" << angledeg << \"°\" << std::endl;\n",
        "\n",
        "}"
      ],
      "execution_count": 26,
      "outputs": [
        {
          "output_type": "stream",
          "name": "stdout",
          "text": [
            "Overwriting main.cpp\n"
          ]
        }
      ]
    },
    {
      "cell_type": "code",
      "metadata": {
        "id": "iNmaAjjwhg_I"
      },
      "source": [
        "%%script bash\n",
        "g++ linear_algebra.cpp main.cpp -std=c++11 -o linal"
      ],
      "execution_count": 27,
      "outputs": []
    },
    {
      "cell_type": "code",
      "metadata": {
        "colab": {
          "base_uri": "https://localhost:8080/"
        },
        "id": "MuzG3aVqhiwm",
        "outputId": "4425aea8-66fd-47ff-96ca-969f696a6f0e"
      },
      "source": [
        "!./linal"
      ],
      "execution_count": 28,
      "outputs": [
        {
          "output_type": "stream",
          "name": "stdout",
          "text": [
            "---------- DOT PRODUCT ---------\n",
            "Vector: [7.887,4.138]\n",
            "Vector: [-8.802,6.776]\n",
            "Dot Product = -41.382\n",
            "Vector: [-5.955,-4.904,-1.874]\n",
            "Vector: [-4.496,-8.755,7.103]\n",
            "Dot Product = 56.397\n",
            "---------- ANGLE ---------\n",
            "Vector: [3.183,-7.627]\n",
            "Vector: [-2.668,5.319]\n",
            "Angle = 3.072 rad\n",
            "Vector: [7.35,0.221,5.188]\n",
            "Vector: [2.751,8.259,3.985]\n",
            "Angle = 60.276°\n"
          ]
        }
      ]
    }
  ]
}