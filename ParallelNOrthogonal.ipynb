{
  "nbformat": 4,
  "nbformat_minor": 0,
  "metadata": {
    "colab": {
      "name": "ParallelNOrthogonal.ipynb",
      "provenance": [],
      "collapsed_sections": [],
      "authorship_tag": "ABX9TyObuzc0Y+yXwVcub9QBLFOn",
      "include_colab_link": true
    },
    "kernelspec": {
      "name": "python3",
      "display_name": "Python 3"
    },
    "language_info": {
      "name": "python"
    }
  },
  "cells": [
    {
      "cell_type": "markdown",
      "metadata": {
        "id": "view-in-github",
        "colab_type": "text"
      },
      "source": [
        "<a href=\"https://colab.research.google.com/github/Jaredkmacho/LinearAlgebraNotebooks/blob/main/ParallelNOrthogonal.ipynb\" target=\"_parent\"><img src=\"https://colab.research.google.com/assets/colab-badge.svg\" alt=\"Open In Colab\"/></a>"
      ]
    },
    {
      "cell_type": "code",
      "metadata": {
        "colab": {
          "base_uri": "https://localhost:8080/"
        },
        "id": "mcAA9aDPhJVa",
        "outputId": "5ac739af-3cd9-4a8d-fca9-25f651962f90"
      },
      "source": [
        "%%writefile linear_algebra.h\n",
        "\n",
        "#ifndef LINEAR_ALGEBRA_H\n",
        "#define LINEAR_ALGEBRA_H\n",
        "\n",
        "#include <iostream>\n",
        "#include <vector>\n",
        "#include <cmath>\n",
        "\n",
        "class Vector {\n",
        "public:\n",
        "    Vector();\n",
        "    Vector(double *coordinates, size_t len); //Constructor\n",
        "    Vector(const Vector &other); //Copy constructor\n",
        "    void print();\n",
        "    double Magnitude();\n",
        "    Vector Direction();\n",
        "    double Dot(const Vector &other);\n",
        "    double Angle(Vector &other);\n",
        "    bool Parallel(Vector &other);\n",
        "    bool Orthogonal(Vector &other);\n",
        "    bool operator==(const Vector &other);\n",
        "    Vector& operator+=(const Vector &other);\n",
        "    Vector& operator-=(const Vector &other);\n",
        "    Vector& operator*=(const Vector &other);\n",
        "    Vector& operator*=(double x);\n",
        "    \n",
        "\n",
        "private:\n",
        "    std::vector<double> coordinates_;\n",
        "    size_t dimension_;\n",
        "};\n",
        "\n",
        "#endif /* LINEAR_ALGEBRA_H */"
      ],
      "execution_count": 7,
      "outputs": [
        {
          "output_type": "stream",
          "name": "stdout",
          "text": [
            "Overwriting linear_algebra.h\n"
          ]
        }
      ]
    },
    {
      "cell_type": "code",
      "metadata": {
        "colab": {
          "base_uri": "https://localhost:8080/"
        },
        "id": "33A5GDBwhcR4",
        "outputId": "4d2e3792-6f65-4545-b61c-7f11dbacfe80"
      },
      "source": [
        "%%writefile linear_algebra.cpp\n",
        "\n",
        "#include \"linear_algebra.h\"\n",
        "Vector::Vector() {\n",
        "    coordinates_ = {};\n",
        "    dimension_ = 0;\n",
        "}\n",
        "\n",
        "Vector::Vector(double *coordinates, size_t len) {\n",
        "    for(size_t i = 0; i < len; i++) {\n",
        "        coordinates_.emplace_back(coordinates[i]);\n",
        "    }\n",
        "    dimension_ = len;\n",
        "}\n",
        "\n",
        "Vector::Vector(const Vector &other) {\n",
        "    for(double v : other.coordinates_) {\n",
        "        coordinates_.emplace_back(v);\n",
        "    }\n",
        "    dimension_ = other.dimension_;\n",
        "}\n",
        "\n",
        "void Vector::print() {\n",
        "    std::cout << \"Vector: [\";\n",
        "    std::cout.precision(4);\n",
        "    for(size_t i = 0; i < dimension_; i++) {\n",
        "        std::cout <<coordinates_[i] << ((i == dimension_ - 1) ? \"]\" : \",\");\n",
        "    }\n",
        "    std::cout << std::endl;\n",
        "}\n",
        "\n",
        "double Vector::Magnitude() {\n",
        "    double tmp = 0;\n",
        "    for(double v: coordinates_) {\n",
        "        tmp += std::pow(v, 2);\n",
        "    }\n",
        "    return std::sqrt(tmp);\n",
        "}\n",
        "\n",
        "Vector Vector::Direction() {\n",
        "    Vector unit(*this);\n",
        "    if(unit.Magnitude() == 0) {\n",
        "        std::cout << \"Zero magnitude vector!\" << std::endl;\n",
        "        return Vector();\n",
        "    }\n",
        "    double tmp = 1 / unit.Magnitude();\n",
        "    return unit*=tmp;\n",
        "}\n",
        "\n",
        "double Vector::Dot(const Vector &other) {\n",
        "    double tmp = 0;\n",
        "    if(dimension_ == other.dimension_) {\n",
        "        for(size_t i = 0; i < dimension_; i++) {\n",
        "            tmp += coordinates_[i] * other.coordinates_[i];\n",
        "        }\n",
        "        return tmp;\n",
        "    } \n",
        "    std::cout << \"Not equal sized vectors!\" << std::endl;\n",
        "    return -1;\n",
        "}\n",
        "\n",
        "double Vector::Angle(Vector &other) {\n",
        "    if(dimension_ == other.dimension_) {\n",
        "        return std::acos( Dot(other) / (Magnitude() * other.Magnitude()) );\n",
        "    }\n",
        "    std::cout << \"Not equal sized vectors!\" << std::endl;\n",
        "    return -1;\n",
        "}\n",
        "\n",
        "// NOTE: Some tolerance is used in value comparison to compensate for floating point precision\n",
        "bool Vector::Parallel(Vector &other) {\n",
        "    //TODO: Check weather the \"other\" vector is a scalar product of the \"this\" vector, also 0 * v1 and v1 * v1 are parallel.\n",
        "    // is \"other\" equal to \"this\"\n",
        "    if(*this == other) {\n",
        "        return true;\n",
        "    }\n",
        "    // is \"other\" or \"this\" a 0 vector? \n",
        "    else if( this->Magnitude() == 0.0 || other.Magnitude() == 0.0) {\n",
        "        return true;\n",
        "    }\n",
        "    else if(std::cos(this->Angle(other)) >= 0.99 || std::cos(this->Angle(other)) <= -0.99) {\n",
        "        return true;\n",
        "    } \n",
        "    return false;\n",
        "}\n",
        "\n",
        "bool Vector::Orthogonal(Vector &other) {\n",
        "    //TODO: Check weather a dot product is equal to 0\n",
        "    return Dot(other) <= 0.01 && Dot(other) >= -0.01;\n",
        "}\n",
        "\n",
        "bool Vector::operator==(const Vector &other) {\n",
        "    return coordinates_ == other.coordinates_;\n",
        "}\n",
        "\n",
        "Vector& Vector::operator+=(const Vector &other) {\n",
        "    if(dimension_ == other.dimension_) {\n",
        "        for(size_t i = 0; i < dimension_; i++) {\n",
        "            coordinates_[i] += other.coordinates_[i];\n",
        "        }\n",
        "    return *this;\n",
        "    }\n",
        "}\n",
        "\n",
        "Vector& Vector::operator-=(const Vector &other) {\n",
        "    if(dimension_ == other.dimension_) {\n",
        "        for(size_t i = 0; i < dimension_; i++) {\n",
        "            coordinates_[i] = coordinates_[i] - other.coordinates_[i];\n",
        "        }\n",
        "    return *this;\n",
        "    }\n",
        "}\n",
        "\n",
        "Vector& Vector::operator*=(const Vector &other) {\n",
        "    if(dimension_ == other.dimension_) {\n",
        "        for(size_t i = 0; i < dimension_; i++) {\n",
        "            coordinates_[i] *= other.coordinates_[i];\n",
        "        }\n",
        "    return *this;\n",
        "    }\n",
        "}\n",
        "\n",
        "Vector& Vector::operator*=(double x) {\n",
        "    for(size_t i = 0; i < dimension_; i++) {\n",
        "        coordinates_[i] *= x;\n",
        "    }\n",
        "    return *this;\n",
        "}"
      ],
      "execution_count": 40,
      "outputs": [
        {
          "output_type": "stream",
          "name": "stdout",
          "text": [
            "Overwriting linear_algebra.cpp\n"
          ]
        }
      ]
    },
    {
      "cell_type": "code",
      "metadata": {
        "colab": {
          "base_uri": "https://localhost:8080/"
        },
        "id": "xTeJptmFhdBV",
        "outputId": "731b4773-f26b-485a-8d77-92058022f5e7"
      },
      "source": [
        "%%writefile main.cpp\n",
        "\n",
        "#include \"linear_algebra.h\"\n",
        "\n",
        "\n",
        "int main() {\n",
        "    //Example 1\n",
        "    double coordinates1[] = {-7.579, -7.88};\n",
        "    double coordinates2[] = {22.737, 23.64};\n",
        "    //Example 2\n",
        "    double coordinates3[] = {-2.029, 9.97, 4.172};\n",
        "    double coordinates4[] = {-9.231, -6.639, -7.245};\n",
        "    //Example 3\n",
        "    double coordinates5[] = {-2.328, -7.284, -1.214};\n",
        "    double coordinates6[] = {-1.821, 1.072, -2.94};\n",
        "    //Example 4\n",
        "    double coordinates7[] = {2.118, 4.827};\n",
        "    double coordinates8[] = {0, 0};\n",
        "\n",
        "    Vector vector1(coordinates1, sizeof(coordinates1) / sizeof(double));\n",
        "    Vector vector2(coordinates2, sizeof(coordinates2) / sizeof(double));\n",
        "    Vector vector3(coordinates3, sizeof(coordinates3) / sizeof(double));\n",
        "    Vector vector4(coordinates4, sizeof(coordinates4) / sizeof(double));\n",
        "    Vector vector5(coordinates5, sizeof(coordinates5) / sizeof(double));\n",
        "    Vector vector6(coordinates6, sizeof(coordinates6) / sizeof(double));\n",
        "    Vector vector7(coordinates7, sizeof(coordinates7) / sizeof(double));\n",
        "    Vector vector8(coordinates8, sizeof(coordinates8) / sizeof(double));\n",
        "\n",
        "    std::cout << \"---------- Parallel and Orthogonal ---------\" << std::endl;\n",
        "    std::cout << \"\\nExample 1\" << std::endl;\n",
        "    vector1.print();\n",
        "    vector2.print();\n",
        "    std::cout << \"Parallel = \" << vector1.Parallel(vector2) << std::endl;\n",
        "    std::cout << \"Orthogonal = \" << vector1.Orthogonal(vector2) << std::endl;\n",
        "\n",
        "    std::cout << \"\\nExample 2\" << std::endl;\n",
        "    vector3.print();\n",
        "    vector4.print();\n",
        "    std::cout << \"Parallel = \" << vector3.Parallel(vector4) << std::endl;\n",
        "    std::cout << \"Orthogonal = \" << vector3.Orthogonal(vector4) << std::endl;\n",
        "\n",
        "    std::cout << \"\\nExample 3\" << std::endl;\n",
        "    vector5.print();\n",
        "    vector6.print();\n",
        "    std::cout << \"Parallel = \" << vector5.Parallel(vector6) << std::endl;\n",
        "    std::cout << \"Orthogonal = \" << vector5.Orthogonal(vector6) << std::endl;\n",
        "    \n",
        "    std::cout << \"\\nExample 4\" << std::endl;\n",
        "    vector7.print();\n",
        "    vector8.print();\n",
        "    std::cout << \"Parallel = \" << vector7.Parallel(vector8) << std::endl;\n",
        "    std::cout << \"Orthogonal = \" << vector7.Orthogonal(vector8) << std::endl;\n",
        "\n",
        "}"
      ],
      "execution_count": 41,
      "outputs": [
        {
          "output_type": "stream",
          "name": "stdout",
          "text": [
            "Overwriting main.cpp\n"
          ]
        }
      ]
    },
    {
      "cell_type": "code",
      "metadata": {
        "id": "iNmaAjjwhg_I"
      },
      "source": [
        "%%script bash\n",
        "g++ linear_algebra.cpp main.cpp -std=c++11 -o linal"
      ],
      "execution_count": 42,
      "outputs": []
    },
    {
      "cell_type": "code",
      "metadata": {
        "colab": {
          "base_uri": "https://localhost:8080/"
        },
        "id": "MuzG3aVqhiwm",
        "outputId": "1d1e5bd3-2035-45d9-984e-9f539b11321c"
      },
      "source": [
        "!./linal"
      ],
      "execution_count": 43,
      "outputs": [
        {
          "output_type": "stream",
          "name": "stdout",
          "text": [
            "---------- Parallel and Orthogonal ---------\n",
            "\n",
            "Example 1\n",
            "Vector: [-7.579,-7.88]\n",
            "Vector: [22.74,23.64]\n",
            "Parallel = 1\n",
            "Orthogonal = 0\n",
            "\n",
            "Example 2\n",
            "Vector: [-2.029,9.97,4.172]\n",
            "Vector: [-9.231,-6.639,-7.245]\n",
            "Parallel = 0\n",
            "Orthogonal = 0\n",
            "\n",
            "Example 3\n",
            "Vector: [-2.328,-7.284,-1.214]\n",
            "Vector: [-1.821,1.072,-2.94]\n",
            "Parallel = 0\n",
            "Orthogonal = 1\n",
            "\n",
            "Example 4\n",
            "Vector: [2.118,4.827]\n",
            "Vector: [0,0]\n",
            "Parallel = 1\n",
            "Orthogonal = 1\n"
          ]
        }
      ]
    }
  ]
}