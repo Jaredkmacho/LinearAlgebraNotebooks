{
  "nbformat": 4,
  "nbformat_minor": 0,
  "metadata": {
    "colab": {
      "name": "MagnitudNDirection.ipynb",
      "provenance": [],
      "collapsed_sections": [],
      "authorship_tag": "ABX9TyPbAxw6VLQdKnqRZkPaPrrX",
      "include_colab_link": true
    },
    "kernelspec": {
      "name": "python3",
      "display_name": "Python 3"
    },
    "language_info": {
      "name": "python"
    }
  },
  "cells": [
    {
      "cell_type": "markdown",
      "metadata": {
        "id": "view-in-github",
        "colab_type": "text"
      },
      "source": [
        "<a href=\"https://colab.research.google.com/github/Jaredkmacho/LinearAlgebraNotebooks/blob/main/MagnitudNDirection.ipynb\" target=\"_parent\"><img src=\"https://colab.research.google.com/assets/colab-badge.svg\" alt=\"Open In Colab\"/></a>"
      ]
    },
    {
      "cell_type": "code",
      "metadata": {
        "colab": {
          "base_uri": "https://localhost:8080/"
        },
        "id": "9qfgve3QJh5W",
        "outputId": "01fc9c00-1d4f-4057-e767-710f3fa7b3b6"
      },
      "source": [
        "%%writefile linear_algebra.h\n",
        "\n",
        "#ifndef LINEAR_ALGEBRA_H\n",
        "#define LINEAR_ALGEBRA_H\n",
        "\n",
        "#include <iostream>\n",
        "#include <vector>\n",
        "#include <cmath>\n",
        "\n",
        "class Vector {\n",
        "public:\n",
        "    Vector();\n",
        "    Vector(double *coordinates, size_t len); //Constructor\n",
        "    Vector(const Vector &other); //Copy constructor\n",
        "    void print();\n",
        "    double Magnitude();\n",
        "    Vector Direction();\n",
        "    bool operator==(const Vector &other);\n",
        "    Vector& operator+=(const Vector &other);\n",
        "    Vector& operator-=(const Vector &other);\n",
        "    Vector& operator*=(const Vector &other);\n",
        "    Vector& operator*=(double x);\n",
        "    \n",
        "\n",
        "private:\n",
        "    std::vector<double> coordinates_;\n",
        "    size_t dimension_;\n",
        "};\n",
        "\n",
        "#endif /* LINEAR_ALGEBRA_H */"
      ],
      "execution_count": 53,
      "outputs": [
        {
          "output_type": "stream",
          "name": "stdout",
          "text": [
            "Overwriting linear_algebra.h\n"
          ]
        }
      ]
    },
    {
      "cell_type": "code",
      "metadata": {
        "colab": {
          "base_uri": "https://localhost:8080/"
        },
        "id": "mOfzc0zyNHbE",
        "outputId": "fc86dfcd-8e98-4b04-df2e-a788d7977059"
      },
      "source": [
        "%%writefile linear_algebra.cpp\n",
        "\n",
        "#include \"linear_algebra.h\"\n",
        "Vector::Vector() {\n",
        "    coordinates_ = {};\n",
        "    dimension_ = 0;\n",
        "}\n",
        "\n",
        "Vector::Vector(double *coordinates, size_t len) {\n",
        "    for(size_t i = 0; i < len; i++) {\n",
        "        coordinates_.emplace_back(coordinates[i]);\n",
        "    }\n",
        "    dimension_ = len;\n",
        "}\n",
        "\n",
        "Vector::Vector(const Vector &other) {\n",
        "    for(double v : other.coordinates_) {\n",
        "        coordinates_.emplace_back(v);\n",
        "    }\n",
        "    dimension_ = other.dimension_;\n",
        "}\n",
        "\n",
        "void Vector::print() {\n",
        "    std::cout << \"Vector: [\";\n",
        "    std::cout.precision(4);\n",
        "    for(size_t i = 0; i < dimension_; i++) {\n",
        "        std::cout <<coordinates_[i] << ((i == dimension_ - 1) ? \"]\" : \",\");\n",
        "    }\n",
        "    std::cout << std::endl;\n",
        "}\n",
        "\n",
        "double Vector::Magnitude() {\n",
        "    //TODO: Calculate the vector magnitud ||V|| = sqr(v1^2 + v2^2 + ... + vn^2)\n",
        "    double tmp = 0;\n",
        "    for(double v: coordinates_) {\n",
        "        tmp += std::pow(v, 2);\n",
        "    }\n",
        "    return std::sqrt(tmp);\n",
        "}\n",
        "\n",
        "Vector Vector::Direction() {\n",
        "    //TODO: Calculate the unit vector U = 1 / ||V|| * V\n",
        "    Vector unit(*this);\n",
        "    if(unit.Magnitude() == 0) {\n",
        "        std::cout << \"Zero magnitude vector!\" << std::endl;\n",
        "        return Vector();\n",
        "    }\n",
        "    double tmp = 1 / unit.Magnitude();\n",
        "    return unit*=tmp;\n",
        "}\n",
        "\n",
        "bool Vector::operator==(const Vector &other) {\n",
        "    return coordinates_ == other.coordinates_;\n",
        "}\n",
        "\n",
        "Vector& Vector::operator+=(const Vector &other) {\n",
        "    if(dimension_ == other.dimension_) {\n",
        "        for(size_t i = 0; i < dimension_; i++) {\n",
        "            coordinates_[i] += other.coordinates_[i];\n",
        "        }\n",
        "    return *this;\n",
        "    }\n",
        "}\n",
        "\n",
        "Vector& Vector::operator-=(const Vector &other) {\n",
        "    if(dimension_ == other.dimension_) {\n",
        "        for(size_t i = 0; i < dimension_; i++) {\n",
        "            coordinates_[i] = coordinates_[i] - other.coordinates_[i];\n",
        "        }\n",
        "    return *this;\n",
        "    }\n",
        "}\n",
        "\n",
        "Vector& Vector::operator*=(const Vector &other) {\n",
        "    if(dimension_ == other.dimension_) {\n",
        "        for(size_t i = 0; i < dimension_; i++) {\n",
        "            coordinates_[i] *= other.coordinates_[i];\n",
        "        }\n",
        "    return *this;\n",
        "    }\n",
        "}\n",
        "\n",
        "Vector& Vector::operator*=(double x) {\n",
        "    for(size_t i = 0; i < dimension_; i++) {\n",
        "        coordinates_[i] *= x;\n",
        "    }\n",
        "    return *this;\n",
        "}"
      ],
      "execution_count": 55,
      "outputs": [
        {
          "output_type": "stream",
          "name": "stdout",
          "text": [
            "Overwriting linear_algebra.cpp\n"
          ]
        }
      ]
    },
    {
      "cell_type": "code",
      "metadata": {
        "colab": {
          "base_uri": "https://localhost:8080/"
        },
        "id": "mmtMi1-aNS0M",
        "outputId": "c48d04e8-ec5a-45d9-b89d-656b65fea0a3"
      },
      "source": [
        "%%writefile main.cpp\n",
        "\n",
        "#include \"linear_algebra.h\"\n",
        "\n",
        "int main() {\n",
        "    double coordinates1[] = {-0.221,7.437};\n",
        "    double coordinates2[] = {8.813, -1.331, -6.247};\n",
        "    double coordinates3[] = {5.581, -2.136};\n",
        "    double coordinates4[] = {1.996, 3.108, -4.554};\n",
        "\n",
        "    Vector vector1(coordinates1, sizeof(coordinates1) / sizeof(double));\n",
        "    Vector vector2(coordinates2, sizeof(coordinates2) / sizeof(double));\n",
        "    Vector vector3(coordinates3, sizeof(coordinates3) / sizeof(double));\n",
        "    Vector vector4(coordinates4, sizeof(coordinates4) / sizeof(double));\n",
        "\n",
        "    std::cout << \"---------- MAGNITUDE ---------\" << std::endl;\n",
        "    vector1.print();\n",
        "    auto magnitude1 = vector1.Magnitude();\n",
        "    std::cout.precision(5);\n",
        "    std::cout << \"magnitude = \" << magnitude1 << std::endl;\n",
        "    \n",
        "    vector2.print();\n",
        "    auto magnitude2 = vector2.Magnitude();\n",
        "    std::cout.precision(5);\n",
        "    std::cout << \"magnitude = \" << magnitude2 << std::endl;\n",
        "\n",
        "    std::cout << \"---------- DIRECTION ---------\" << std::endl;\n",
        "    vector3.print();\n",
        "    auto unit3 = vector3.Direction();\n",
        "    std::cout << \"direction = \";\n",
        "    unit3.print();\n",
        "    std::cout << \"unit magnitud = \" << unit3.Magnitude() << std::endl;\n",
        "    \n",
        "    vector4.print();\n",
        "    auto unit4 = vector4.Direction();\n",
        "    std::cout << \"direction = \";\n",
        "    unit4.print();\n",
        "    std::cout << \"unit magnitud = \" << unit3.Magnitude() << std::endl;\n",
        "\n",
        "\n",
        "}"
      ],
      "execution_count": 58,
      "outputs": [
        {
          "output_type": "stream",
          "name": "stdout",
          "text": [
            "Overwriting main.cpp\n"
          ]
        }
      ]
    },
    {
      "cell_type": "code",
      "metadata": {
        "id": "_rS17CaQNYYS"
      },
      "source": [
        "%%script bash\n",
        "g++ linear_algebra.cpp main.cpp -std=c++11 -o linal"
      ],
      "execution_count": 59,
      "outputs": []
    },
    {
      "cell_type": "code",
      "metadata": {
        "colab": {
          "base_uri": "https://localhost:8080/"
        },
        "id": "HC0FHqJoNZ-z",
        "outputId": "6ef146f6-670e-4fc7-e179-32acb461fe59"
      },
      "source": [
        "!./linal"
      ],
      "execution_count": 60,
      "outputs": [
        {
          "output_type": "stream",
          "name": "stdout",
          "text": [
            "---------- MAGNITUDE ---------\n",
            "Vector: [-0.221,7.437]\n",
            "magnitude = 7.4403\n",
            "Vector: [8.813,-1.331,-6.247]\n",
            "magnitude = 10.884\n",
            "---------- DIRECTION ---------\n",
            "Vector: [5.581,-2.136]\n",
            "direction = Vector: [0.9339,-0.3574]\n",
            "unit magnitud = 1\n",
            "Vector: [1.996,3.108,-4.554]\n",
            "direction = Vector: [0.3404,0.53,-0.7766]\n",
            "unit magnitud = 1\n"
          ]
        }
      ]
    }
  ]
}