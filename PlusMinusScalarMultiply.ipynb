{
  "nbformat": 4,
  "nbformat_minor": 0,
  "metadata": {
    "colab": {
      "name": "PlusMinusScalarMultiply.ipynb",
      "provenance": [],
      "collapsed_sections": [],
      "authorship_tag": "ABX9TyNxk+jF+SgLWh4XWXd5QxuF",
      "include_colab_link": true
    },
    "kernelspec": {
      "name": "python3",
      "display_name": "Python 3"
    },
    "language_info": {
      "name": "python"
    }
  },
  "cells": [
    {
      "cell_type": "markdown",
      "metadata": {
        "id": "view-in-github",
        "colab_type": "text"
      },
      "source": [
        "<a href=\"https://colab.research.google.com/github/Jaredkmacho/LinearAlgebraNotebooks/blob/main/PlusMinusScalarMultiply.ipynb\" target=\"_parent\"><img src=\"https://colab.research.google.com/assets/colab-badge.svg\" alt=\"Open In Colab\"/></a>"
      ]
    },
    {
      "cell_type": "code",
      "metadata": {
        "colab": {
          "base_uri": "https://localhost:8080/"
        },
        "id": "EQySVPfeP95p",
        "outputId": "68a0a7ca-59fc-4333-95c0-ade9fbeb0e2c"
      },
      "source": [
        "%%writefile linear_algebra.h\n",
        "\n",
        "#ifndef LINEAR_ALGEBRA_H\n",
        "#define LINEAR_ALGEBRA_H\n",
        "\n",
        "#include <iostream>\n",
        "#include <vector>\n",
        "\n",
        "class Vector {\n",
        "public:\n",
        "    Vector(int *coordinates, size_t len);\n",
        "    void print();\n",
        "    bool operator==(const Vector &other);\n",
        "    Vector& operator+=(const Vector &other);\n",
        "    Vector& operator-=(const Vector &other);\n",
        "    Vector& operator*=(const Vector &other);\n",
        "\n",
        "private:\n",
        "    std::vector<int> coordinates_;\n",
        "    size_t dimension_;\n",
        "};\n",
        "\n",
        "#endif /* LINEAR_ALGEBRA_H */"
      ],
      "execution_count": 72,
      "outputs": [
        {
          "output_type": "stream",
          "name": "stdout",
          "text": [
            "Overwriting linear_algebra.h\n"
          ]
        }
      ]
    },
    {
      "cell_type": "code",
      "metadata": {
        "colab": {
          "base_uri": "https://localhost:8080/"
        },
        "id": "EJX9UCL0TR0d",
        "outputId": "b19abdf3-8449-44e8-9a60-354859276150"
      },
      "source": [
        "%%writefile linear_algebra.cpp\n",
        "\n",
        "#include \"linear_algebra.h\"\n",
        "\n",
        "Vector::Vector(int *coordinates, size_t len) {\n",
        "    for(size_t i = 0; i < len; i++) {\n",
        "        coordinates_.emplace_back(coordinates[i]);\n",
        "    }\n",
        "    dimension_ = len;\n",
        "}\n",
        "\n",
        "void Vector::print() {\n",
        "    std::cout << \"Vector: [\";\n",
        "    for(size_t i = 0; i < dimension_; i++) {\n",
        "        std::cout << coordinates_[i] << ((i == dimension_ - 1) ? \"]\" : \",\");\n",
        "    }\n",
        "    std::cout << std::endl;\n",
        "}\n",
        "\n",
        "bool Vector::operator==(const Vector &other) {\n",
        "    return coordinates_ == other.coordinates_;\n",
        "}\n",
        "\n",
        "Vector& Vector::operator+=(const Vector &other) {\n",
        "    if(dimension_ == other.dimension_) {\n",
        "        for(size_t i = 0; i < dimension_; i++) {\n",
        "            coordinates_[i] += other.coordinates_[i];\n",
        "        }\n",
        "    return *this;\n",
        "    }\n",
        "}\n",
        "\n",
        "Vector& Vector::operator-=(const Vector &other) {\n",
        "    if(dimension_ == other.dimension_) {\n",
        "        for(size_t i = 0; i < dimension_; i++) {\n",
        "            coordinates_[i] -= other.coordinates_[i];\n",
        "        }\n",
        "    return *this;\n",
        "    }\n",
        "}\n",
        "\n",
        "Vector& Vector::operator*=(const Vector &other) {\n",
        "    if(dimension_ == other.dimension_) {\n",
        "        for(size_t i = 0; i < dimension_; i++) {\n",
        "            coordinates_[i] *= other.coordinates_[i];\n",
        "        }\n",
        "    return *this;\n",
        "    }\n",
        "}"
      ],
      "execution_count": 73,
      "outputs": [
        {
          "output_type": "stream",
          "name": "stdout",
          "text": [
            "Overwriting linear_algebra.cpp\n"
          ]
        }
      ]
    },
    {
      "cell_type": "code",
      "metadata": {
        "colab": {
          "base_uri": "https://localhost:8080/"
        },
        "id": "kjyfBlFAX59i",
        "outputId": "cf0c7962-f0c4-45e5-8e73-7560682306dc"
      },
      "source": [
        "%%writefile main.cpp\n",
        "\n",
        "#include \"linear_algebra.h\"\n",
        "\n",
        "int main() {\n",
        "    int coordinates1[] = {5,4,3};\n",
        "    int coordinates2[] = {5,4,3};\n",
        "    Vector vector1(coordinates1, sizeof(coordinates1) / sizeof(int));\n",
        "    Vector vector2(coordinates2, sizeof(coordinates2) / sizeof(int));\n",
        "\n",
        "    vector1.print();\n",
        "    vector2.print();\n",
        "\n",
        "    if(vector1 == vector2) std::cout << \"Equals\" << std::endl;\n",
        "    else std::cout << \"Not Equals\" << std::endl;\n",
        "\n",
        "    std::cout << \"Vector sum result: \";\n",
        "    vector1 += vector2;\n",
        "    vector1.print();\n",
        "\n",
        "    std::cout << \"Vector substraction result: \";\n",
        "    vector1 -= vector2;\n",
        "    vector1.print();\n",
        "\n",
        "    std::cout << \"Vector multiply result: \";\n",
        "    vector1 *= vector2;\n",
        "    vector1.print();\n",
        "}"
      ],
      "execution_count": 74,
      "outputs": [
        {
          "output_type": "stream",
          "name": "stdout",
          "text": [
            "Overwriting main.cpp\n"
          ]
        }
      ]
    },
    {
      "cell_type": "code",
      "metadata": {
        "id": "7tsUvrV9aKad"
      },
      "source": [
        "%%script bash\n",
        "g++ linear_algebra.cpp main.cpp -std=c++11 -o linal"
      ],
      "execution_count": 75,
      "outputs": []
    },
    {
      "cell_type": "code",
      "metadata": {
        "colab": {
          "base_uri": "https://localhost:8080/"
        },
        "id": "6BEBJLHrd8jz",
        "outputId": "21845bcd-d73b-4fd4-88e2-9bbe18783248"
      },
      "source": [
        "!./linal"
      ],
      "execution_count": 76,
      "outputs": [
        {
          "output_type": "stream",
          "name": "stdout",
          "text": [
            "Vector: [5,4,3]\n",
            "Vector: [5,4,3]\n",
            "Equals\n",
            "Vector sum result: Vector: [10,8,6]\n",
            "Vector substraction result: Vector: [5,4,3]\n",
            "Vector multiply result: Vector: [25,16,9]\n"
          ]
        }
      ]
    }
  ]
}